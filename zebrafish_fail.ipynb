{
 "cells": [
  {
   "cell_type": "code",
   "execution_count": 5,
   "metadata": {},
   "outputs": [
    {
     "name": "stderr",
     "output_type": "stream",
     "text": [
      "Installing package into ‘/home/xieyufeng/R/x86_64-redhat-linux-gnu-library/3.4’\n",
      "(as ‘lib’ is unspecified)\n",
      "Warning message:\n",
      "“package ‘zebrafishRNASeq’ is not available (for R version 3.4.3)”"
     ]
    }
   ],
   "source": [
    "install.packages('zebrafishRNASeq')"
   ]
  },
  {
   "cell_type": "code",
   "execution_count": 8,
   "metadata": {},
   "outputs": [
    {
     "name": "stderr",
     "output_type": "stream",
     "text": [
      "Bioconductor version 3.6 (BiocInstaller 1.28.0), ?biocLite for help\n",
      "A new version of Bioconductor is available after installing the most recent\n",
      "  version of R; see http://bioconductor.org/install\n",
      "BioC_mirror: https://bioconductor.org\n",
      "Using Bioconductor 3.6 (BiocInstaller 1.28.0), R 3.4.3 (2017-11-30).\n",
      "Installing package(s) ‘zebrafishRNASeq’\n",
      "installation path not writeable, unable to update packages: AER, BH, checkmate,\n",
      "  class, colorspace, cowplot, curl, data.table, ddalpha, fastqcr, git2r,\n",
      "  htmlTable, IRkernel, pheatmap, psych, RANN, repr, rlang, RMySQL, rstudioapi,\n",
      "  tibble\n",
      "Old packages: 'callr', 'clipr', 'dbplyr', 'haven', 'laeken', 'processx', 'ps',\n",
      "  'readr', 'readxl', 'rmarkdown', 'rsconnect', 'rvcheck', 'survival',\n",
      "  'tinytex', 'WGCNA', 'xfun'\n"
     ]
    }
   ],
   "source": [
    "source(\"http://bioconductor.org/biocLite.R\")\n",
    "biocLite(\"zebrafishRNASeq\")"
   ]
  },
  {
   "cell_type": "code",
   "execution_count": null,
   "metadata": {},
   "outputs": [],
   "source": []
  },
  {
   "cell_type": "code",
   "execution_count": 7,
   "metadata": {},
   "outputs": [
    {
     "ename": "ERROR",
     "evalue": "Error in setRepositories(\"/home/xieyufeng/R/x86_64-redhat-linux-gnu-library/3.4\"): cannot set repositories non-interactively\n",
     "output_type": "error",
     "traceback": [
      "Error in setRepositories(\"/home/xieyufeng/R/x86_64-redhat-linux-gnu-library/3.4\"): cannot set repositories non-interactively\nTraceback:\n",
      "1. setRepositories(\"/home/xieyufeng/R/x86_64-redhat-linux-gnu-library/3.4\")",
      "2. stop(\"cannot set repositories non-interactively\")"
     ]
    }
   ],
   "source": [
    "setRepositories('/home/xieyufeng/R/x86_64-redhat-linux-gnu-library/3.4')"
   ]
  },
  {
   "cell_type": "code",
   "execution_count": 9,
   "metadata": {},
   "outputs": [
    {
     "name": "stderr",
     "output_type": "stream",
     "text": [
      "Warning message in data(zfGenes):\n",
      "“data set ‘zfGenes’ not found”"
     ]
    }
   ],
   "source": [
    "data(zfGenes)"
   ]
  },
  {
   "cell_type": "code",
   "execution_count": null,
   "metadata": {},
   "outputs": [],
   "source": []
  }
 ],
 "metadata": {
  "hide_input": false,
  "kernelspec": {
   "display_name": "R",
   "language": "R",
   "name": "ir"
  },
  "language_info": {
   "codemirror_mode": "r",
   "file_extension": ".r",
   "mimetype": "text/x-r-source",
   "name": "R",
   "pygments_lexer": "r",
   "version": "3.4.3"
  },
  "latex_envs": {
   "LaTeX_envs_menu_present": true,
   "autoclose": false,
   "autocomplete": true,
   "bibliofile": "biblio.bib",
   "cite_by": "apalike",
   "current_citInitial": 1,
   "eqLabelWithNumbers": true,
   "eqNumInitial": 1,
   "hotkeys": {
    "equation": "Ctrl-E",
    "itemize": "Ctrl-I"
   },
   "labels_anchors": false,
   "latex_user_defs": false,
   "report_style_numbering": false,
   "user_envs_cfg": false
  },
  "toc": {
   "base_numbering": 1,
   "nav_menu": {},
   "number_sections": true,
   "sideBar": true,
   "skip_h1_title": false,
   "title_cell": "Table of Contents",
   "title_sidebar": "Contents",
   "toc_cell": false,
   "toc_position": {},
   "toc_section_display": true,
   "toc_window_display": false
  }
 },
 "nbformat": 4,
 "nbformat_minor": 2
}
